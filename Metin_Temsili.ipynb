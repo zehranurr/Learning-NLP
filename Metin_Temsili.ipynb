{
 "cells": [
  {
   "cell_type": "markdown",
   "metadata": {},
   "source": [
    "# Metin Temsili (Text Representation)\n",
    "- Metin temsili ,bir metni sayısal veya başka türde bir formatta temsil etme işlemidir.\n"
   ]
  },
  {
   "cell_type": "markdown",
   "metadata": {},
   "source": [
    "- Bag of Words (BoW)\n",
    "- TF -IDF (Term frequency-nverse document frequency)\n",
    "- N-Gram modelleri \n",
    "- Word Embeddings\n",
    "- Transformer Tabanlı Metinli Temsili \n"
   ]
  },
  {
   "cell_type": "markdown",
   "metadata": {
    "vscode": {
     "languageId": "plaintext"
    }
   },
   "source": [
    "# Bag of Words \n",
    "Bag of Words (BoW), metin verisi üzerinde kullanılan bir özellik çıkarım (feature extraction) yöntemidir. Bu yaklaşım, metindeki kelimeleri bir torba (bag) gibi ele alır ve kelimelerin sırasına ya da gramatikal yapılarına bakmaz. Sadece hangi kelimelerin metinde geçtiği ve her birinin ne kadar sıklıkla kullanıldığı dikkate alınır."
   ]
  },
  {
   "cell_type": "markdown",
   "metadata": {
    "vscode": {
     "languageId": "plaintext"
    }
   },
   "source": [
    "## Kelime Sayımı (Word Count):\n",
    "BoW, her kelimenin metin içinde kaç defa geçtiğini sayarak bir özellik (feature) vektörü oluşturur. Bu vektör, her kelimenin bir sayısı ile temsil edilir.\n",
    "\n",
    "- Örnek:\n",
    "\n",
    "    - Diyelim ki elimizde şu iki cümle var:\n",
    "\n",
    "        - Cümle 1: \"Kediler çok sevimli.\"\n",
    "        - Cümle 2: \"Kediler çok hızlı koşuyor.\"\n",
    "        - Bu cümlelerden bir kelime kümesi (vocabulary) oluşturulur:  -  [\"Kediler\", \"çok\", \"sevimli\", \"hızlı\", \"koşuyor\"]\n",
    "\n",
    "    BoW temelli özellik vektörleri şöyle olur:\n",
    "\n",
    "    Cümle 1: [1, 1, 1, 0, 0]\n",
    "    Cümle 2: [1, 1, 0, 1, 1]\n",
    "    Her bir sayının anlamı, o kelimenin metinde kaç kere geçtiğidir."
   ]
  },
  {
   "cell_type": "code",
   "execution_count": 1,
   "metadata": {},
   "outputs": [],
   "source": [
    "from sklearn.feature_extraction.text import CountVectorizer\n",
    "\n",
    "documents = [\n",
    "    \"Kedi evde\",\n",
    "    \"Kedi bahçede\"\n",
    "]\n",
    "vectorizer = CountVectorizer()\n",
    "# metin -> sayisal vektor\n",
    "x= vectorizer.fit_transform(documents)"
   ]
  },
  {
   "cell_type": "code",
   "execution_count": 3,
   "metadata": {},
   "outputs": [
    {
     "name": "stdout",
     "output_type": "stream",
     "text": [
      "Kelime kumesi:  ['bahçede' 'evde' 'kedi']\n"
     ]
    }
   ],
   "source": [
    "print(\"Kelime kumesi: \", vectorizer.get_feature_names_out())"
   ]
  },
  {
   "cell_type": "code",
   "execution_count": 4,
   "metadata": {},
   "outputs": [
    {
     "name": "stdout",
     "output_type": "stream",
     "text": [
      "vector temsili :  [[0 1 1]\n",
      " [1 0 1]]\n"
     ]
    }
   ],
   "source": [
    "print(\"vector temsili : \",x.toarray())"
   ]
  },
  {
   "cell_type": "markdown",
   "metadata": {},
   "source": [
    "# Note:\n",
    "### Temel Regex Söz Dizimi (Syntax)\n",
    "Regex ifadeleri belirli kurallara dayanır ve metin içinde desen aramak için kullanılır. Regex ifadelerinde kullanılan bazı yaygın semboller ve anlamları şunlardır:\n",
    "\n",
    "1.1 Karakter Sınıfları (Character Classes)\n",
    "- \\d: Rakam (0-9) - herhangi bir dijital karakteri temsil eder.\n",
    "- \\D: Rakam olmayan karakter (herhangi bir harf, sembol vb.).\n",
    "- \\w: \"Word\" (kelime karakteri) - harfler (a-z, A-Z), rakamlar (0-9) ve alt çizgi (_) içerir.\n",
    "- \\W: Kelime olmayan karakterler (boşluklar, noktalama işaretleri, vb.).\n",
    "- \\s: Boşluk karakteri (boşluk, tab, yeni satır, vb.).\n",
    "- \\S: Boşluk olmayan karakter.\n",
    "- \\b: Kelime sınırı (bir kelimenin başlangıcı ya da sonu).\n",
    "- \\B: Kelime sınırı olmayan bir yer.\n"
   ]
  },
  {
   "cell_type": "markdown",
   "metadata": {},
   "source": [
    "# Working on Real data set \n",
    "- Please check  kaggle - https://www.kaggle.com/code/zehranurmangal/learning-bag-of-words\n"
   ]
  },
  {
   "cell_type": "markdown",
   "metadata": {},
   "source": [
    "# TF-IDF (Term Frequency-Inverse Document Frewuency)\n",
    "- Metin madenciliğinde ve bilgi erişiminde sıkça kullanılan bir özellik çıkarım yöntemidir.\n",
    "- kelimelerin belgeler içinde ne kadar önemli olduğunu belirlemek için kullanılır"
   ]
  },
  {
   "cell_type": "markdown",
   "metadata": {},
   "source": [
    "- Term Frequency : Bir kelimenin bir belgede ne kadar sık geçtiğini ölçer\n",
    "- Bir kelimenin tüm belgelerdeki yaygınlığını ölçer .Bir kelimenin çok belgede geçiyorsa o kelime çok fazla bilgi sağlamaz\n",
    "\n",
    "\n",
    "\n",
    "![TF-IDF](C:\\llm\\images\\image1.png)"
   ]
  },
  {
   "cell_type": "markdown",
   "metadata": {},
   "source": []
  }
 ],
 "metadata": {
  "kernelspec": {
   "display_name": ".venv",
   "language": "python",
   "name": "python3"
  },
  "language_info": {
   "codemirror_mode": {
    "name": "ipython",
    "version": 3
   },
   "file_extension": ".py",
   "mimetype": "text/x-python",
   "name": "python",
   "nbconvert_exporter": "python",
   "pygments_lexer": "ipython3",
   "version": "3.11.4"
  }
 },
 "nbformat": 4,
 "nbformat_minor": 2
}
