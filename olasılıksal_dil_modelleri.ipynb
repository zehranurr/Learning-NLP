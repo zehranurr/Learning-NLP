{
 "cells": [
  {
   "cell_type": "markdown",
   "metadata": {},
   "source": [
    "##  Olasılıksal Dil Modelleri\n",
    "- Dilin yapısını ve düzenini anlamak ve modellemek için kullanılan istatistiksel yöntemlerdir..\n",
    "- NLP pipeline sürecinde modelleme kısmında yer alır.\n",
    "\n"
   ]
  },
  {
   "cell_type": "markdown",
   "metadata": {},
   "source": [
    "- N-Gram Modelleri - \n",
    "- Gizli Markow modelleri (hidden markow models HMM)\n",
    "- Maximum Entropy modelleri (MaxEnt)"
   ]
  },
  {
   "cell_type": "markdown",
   "metadata": {},
   "source": [
    "## N-Gram Modelleri \n",
    "- N-Gram modelleri ,bir dizideki (genellikle cümledeki) ardışık kelime veya karakter gruplarının olasıklıklarını tahmin eder.\n",
    "- Burada \"n\" gruptaki öğe sayısını belirtir.\n",
    "\n"
   ]
  },
  {
   "cell_type": "markdown",
   "metadata": {},
   "source": [
    "- Kullanım \n",
    "    - bir cümlede bir kelimenin hangi olasıklıkla diğer bir kelimeden sonra geleceğini tahmin etmek için kullanılır.\n",
    "- Avantajlar \n",
    "    - Basit hızlı\n",
    "    - Yerel bağlantıları iyi yakalar\n",
    "- Dezavantajlar\n",
    "    - Bağlam sınırlaması- uzun mesafeleri zor yakalar\n",
    "    - Veri Gereksinimi     "
   ]
  },
  {
   "cell_type": "code",
   "execution_count": 1,
   "metadata": {},
   "outputs": [],
   "source": [
    "from collections import Counter\n",
    "import nltk\n",
    "from nltk.util import ngrams\n",
    "from nltk.tokenize import word_tokenize\n",
    "\n"
   ]
  },
  {
   "cell_type": "code",
   "execution_count": 2,
   "metadata": {},
   "outputs": [],
   "source": [
    "corpus = [\n",
    "    \n",
    "    \"I love you\",\n",
    "    \"I love apple\",\n",
    "    \"I love programming\",\n",
    "    \"You love me\",\n",
    "    \"She loves apple\",\n",
    "    \"They love you\",\n",
    "    \"I love you\",\n",
    "    \"You love me\"\n",
    "]"
   ]
  },
  {
   "cell_type": "code",
   "execution_count": 5,
   "metadata": {},
   "outputs": [
    {
     "data": {
      "text/plain": [
       "[['i', 'love', 'you'],\n",
       " ['i', 'love', 'apple'],\n",
       " ['i', 'love', 'programming'],\n",
       " ['you', 'love', 'me'],\n",
       " ['she', 'loves', 'apple'],\n",
       " ['they', 'love', 'you'],\n",
       " ['i', 'love', 'you'],\n",
       " ['you', 'love', 'me']]"
      ]
     },
     "execution_count": 5,
     "metadata": {},
     "output_type": "execute_result"
    }
   ],
   "source": [
    "[ word_tokenize(sentence.lower())for sentence in corpus ]"
   ]
  },
  {
   "cell_type": "code",
   "execution_count": 6,
   "metadata": {},
   "outputs": [],
   "source": [
    "tokens= [ word_tokenize(sentence.lower())for sentence in corpus ]"
   ]
  },
  {
   "cell_type": "code",
   "execution_count": 7,
   "metadata": {},
   "outputs": [],
   "source": [
    "# n gram  -> 2\n",
    "\n",
    "bigrams = []\n",
    "for token_list in tokens:\n",
    "    bigrams.extend(list(ngrams(token_list,2)))"
   ]
  },
  {
   "cell_type": "code",
   "execution_count": 8,
   "metadata": {},
   "outputs": [
    {
     "name": "stdout",
     "output_type": "stream",
     "text": [
      "[('i', 'love'), ('love', 'you'), ('i', 'love'), ('love', 'apple'), ('i', 'love'), ('love', 'programming'), ('you', 'love'), ('love', 'me'), ('she', 'loves'), ('loves', 'apple'), ('they', 'love'), ('love', 'you'), ('i', 'love'), ('love', 'you'), ('you', 'love'), ('love', 'me')]\n"
     ]
    }
   ],
   "source": [
    "print(bigrams)"
   ]
  },
  {
   "cell_type": "code",
   "execution_count": 9,
   "metadata": {},
   "outputs": [],
   "source": [
    "bigrams_freq = Counter(bigrams)"
   ]
  },
  {
   "cell_type": "code",
   "execution_count": 11,
   "metadata": {},
   "outputs": [
    {
     "name": "stdout",
     "output_type": "stream",
     "text": [
      "Counter({('i', 'love'): 4, ('love', 'you'): 3, ('you', 'love'): 2, ('love', 'me'): 2, ('love', 'apple'): 1, ('love', 'programming'): 1, ('she', 'loves'): 1, ('loves', 'apple'): 1, ('they', 'love'): 1})\n"
     ]
    }
   ],
   "source": [
    "print(bigrams_freq)"
   ]
  },
  {
   "cell_type": "code",
   "execution_count": 12,
   "metadata": {},
   "outputs": [
    {
     "name": "stdout",
     "output_type": "stream",
     "text": [
      "Counter({('i', 'love', 'you'): 2, ('you', 'love', 'me'): 2, ('i', 'love', 'apple'): 1, ('i', 'love', 'programming'): 1, ('she', 'loves', 'apple'): 1, ('they', 'love', 'you'): 1})\n"
     ]
    }
   ],
   "source": [
    "trigrams = []\n",
    "for token_list in tokens:\n",
    "    trigrams.extend(list(ngrams(token_list,3)))\n",
    "    \n",
    "trigrams_freq = Counter(trigrams)\n",
    "\n",
    "print(trigrams_freq)"
   ]
  },
  {
   "cell_type": "code",
   "execution_count": 15,
   "metadata": {},
   "outputs": [],
   "source": [
    "# \"I love \" bigramından sonra you veya apple gelme olasılığını hesapla \"\n",
    "\n",
    "bigram = (\"i\",\"love\")\n",
    "\n",
    "prob_you = trigrams_freq[(\"i\",\"love\",\"you\")]/bigrams_freq[bigram]\n",
    "prob_apple = trigrams_freq[(\"i\",\"love\",\"apple\")]/bigrams_freq[bigram]\n"
   ]
  },
  {
   "cell_type": "code",
   "execution_count": 17,
   "metadata": {},
   "outputs": [
    {
     "name": "stdout",
     "output_type": "stream",
     "text": [
      "you kelimesinin olma olasılığı  0.5\n",
      "apple olma olasılığı :  0.25\n"
     ]
    }
   ],
   "source": [
    "print(\"you kelimesinin olma olasılığı \",prob_you)\n",
    "print(\"apple olma olasılığı : \", prob_apple)"
   ]
  },
  {
   "cell_type": "markdown",
   "metadata": {},
   "source": [
    "## Hidden Markow Models\n",
    "- bir dizi gözlemin (kelimeler veya karakterler gibi) arkasında gizli bir durum dizisinin olduğu varsayımına dayanır\n",
    "- HMM,her bir durumun belirli bir olasılıkla başka bir duruma geceğini ve her durumun belirli bir gözlemi üreteceğini varsayar"
   ]
  },
  {
   "cell_type": "markdown",
   "metadata": {},
   "source": [
    "- Kullanım \n",
    "    - Konuşma Tanıma\n",
    "    - Dil modelleme\n",
    "    - Parça etiketleme (part of speech tagging)( kelimelerin fiil özne olarak tanımlanması)\n",
    "- Avantajlar \n",
    "    - Bağlam modelleme \n",
    "    - Verimli Algoritmalar\n",
    "- Dezavantajlar\n",
    "    - Basitleştirici varsayımlar \n",
    "    - Eğitim zorluğu -yeterli veri yoksa sorun\n",
    "    \n"
   ]
  },
  {
   "cell_type": "code",
   "execution_count": 18,
   "metadata": {},
   "outputs": [],
   "source": [
    "import nltk \n",
    "from nltk.tag import hmm \n"
   ]
  },
  {
   "cell_type": "code",
   "execution_count": 19,
   "metadata": {},
   "outputs": [],
   "source": [
    "# exp dataset\n",
    "\n",
    "train_data = [\n",
    "    [(\"I\",\"PRP\"),(\"am\",\"VBP\"),(\"a\",\"DT\"),(\"student\",\"NN\")],\n",
    "    [(\"you\",\"PRP\"),(\"are\",\"VBP\"),(\"a\",\"DT\"),(\"teacher\",\"NN\")],\n",
    "    \n",
    "    \n",
    "    \n",
    "]"
   ]
  },
  {
   "cell_type": "code",
   "execution_count": 20,
   "metadata": {},
   "outputs": [],
   "source": [
    "trainer= hmm.HiddenMarkovModelTrainer()\n",
    "hmm_tagger= trainer.train(train_data)"
   ]
  },
  {
   "cell_type": "code",
   "execution_count": 23,
   "metadata": {},
   "outputs": [
    {
     "name": "stdout",
     "output_type": "stream",
     "text": [
      "etiketli cümle :  [('I', 'PRP'), ('m', 'PRP'), ('a', 'PRP'), ('teacher', 'PRP')]\n"
     ]
    }
   ],
   "source": [
    "# new sentence\n",
    "\n",
    "test_sentence = \"I m a teacher\".split()\n",
    "\n",
    "tags=hmm_tagger.tag(test_sentence)\n",
    "\n",
    "print(\"etiketli cümle : \" ,tags)\n"
   ]
  },
  {
   "cell_type": "markdown",
   "metadata": {},
   "source": [
    "## Working on big dataset\n",
    "\n"
   ]
  },
  {
   "cell_type": "code",
   "execution_count": 9,
   "metadata": {},
   "outputs": [
    {
     "name": "stderr",
     "output_type": "stream",
     "text": [
      "[nltk_data] Downloading package conll2000 to C:\\llm\\.venv\\Lib\\site-\n",
      "[nltk_data]     packages\\nltk...\n",
      "[nltk_data]   Package conll2000 is already up-to-date!\n"
     ]
    }
   ],
   "source": [
    "import nltk \n",
    "from nltk.tag import hmm\n",
    "from nltk.corpus import conll2000\n",
    "\n",
    "nltk.download(\"conll2000\", download_dir=\"C:\\llm\\.venv\\Lib\\site-packages\\\\nltk\")\n",
    "nltk.data.path = [r'C:\\llm\\.venv\\Lib\\site-packages\\nltk']\n"
   ]
  },
  {
   "cell_type": "code",
   "execution_count": 12,
   "metadata": {},
   "outputs": [
    {
     "name": "stdout",
     "output_type": "stream",
     "text": [
      "[('I', 'PRP'), ('m', 'NN'), ('not', 'NN'), ('going', 'NN'), ('to', 'NN'), ('park', 'NN')]\n"
     ]
    }
   ],
   "source": [
    "train_data= conll2000.tagged_sents(\"train.txt\")\n",
    "test_data = conll2000.tagged_sents(\"test.txt\")\n",
    "\n",
    "\n",
    "trainer = hmm.HiddenMarkovModelTrainer()\n",
    "hmm_tagger = trainer.train(train_data)\n",
    "\n",
    "test_sentence = \"I m not going to park\".split()\n",
    "tags = hmm_tagger.tag(test_sentence)\n",
    "\n",
    "\n",
    "print(tags)"
   ]
  },
  {
   "cell_type": "markdown",
   "metadata": {},
   "source": [
    "# Maximum Entropy Modelleri MAXENT\n",
    "\n",
    "- Bir olasılık dağılmını tahmin ederken mümkün olduğunca az varsayımda bulunmayı hedefler\n",
    "\n",
    "- Kullanım \n",
    "    - özellikle sınıflandırma görevlerinde \n",
    "    - bir cümlenin bir sınıfa pozitif negatif duygu gibi ait olma olasığını tahmin edebilir\n",
    "\n",
    "- Avantajlar \n",
    "    - Esneklik \n",
    "    - İyi genelleme \n",
    "- Dezavantaj \n",
    "    - Hesaplama maliyetleri\n",
    "    - Özellik mühendisliği \n",
    "\n",
    "\n"
   ]
  },
  {
   "cell_type": "code",
   "execution_count": 1,
   "metadata": {},
   "outputs": [],
   "source": [
    "from nltk.classify import MaxentClassifier\n",
    "\n",
    "\n",
    "\n",
    "#train dataset\n",
    "train_data = [\n",
    "    ({\"love\":True,\"amazing\":True},\"positive\"),\n",
    "    ({\"hate\":True,\"terrible\":True},\"negative\"),\n",
    "    ({\"happy\":True,\"joy\":True},\"positive\"),\n",
    "    ({\"sad\":True,\"depressed\":True},\"negative\")\n",
    "    \n",
    "    \n",
    "    \n",
    "    \n",
    "    \n",
    "]"
   ]
  },
  {
   "cell_type": "code",
   "execution_count": 2,
   "metadata": {},
   "outputs": [
    {
     "name": "stdout",
     "output_type": "stream",
     "text": [
      "  ==> Training (10 iterations)\n",
      "\n",
      "      Iteration    Log Likelihood    Accuracy\n",
      "      ---------------------------------------\n",
      "             1          -0.69315        0.500\n",
      "             2          -0.40547        1.000\n",
      "             3          -0.28768        1.000\n",
      "             4          -0.22314        1.000\n",
      "             5          -0.18232        1.000\n",
      "             6          -0.15415        1.000\n",
      "             7          -0.13353        1.000\n",
      "             8          -0.11778        1.000\n",
      "             9          -0.10536        1.000\n",
      "         Final          -0.09531        1.000\n"
     ]
    }
   ],
   "source": [
    "classifier=MaxentClassifier.train(train_data,max_iter=10)"
   ]
  },
  {
   "cell_type": "code",
   "execution_count": 3,
   "metadata": {},
   "outputs": [],
   "source": [
    "test_sentence = \"I love this amazing movie \""
   ]
  },
  {
   "cell_type": "code",
   "execution_count": 5,
   "metadata": {},
   "outputs": [],
   "source": [
    "features= {word : (word in test_sentence.lower().split()) for word in [\"love\",\"amazing\",\"hate\",\"terrible\",\"happy\",\"joy\",\"depressed\",\"sad\"\n",
    "                                                        ]}"
   ]
  },
  {
   "cell_type": "code",
   "execution_count": 6,
   "metadata": {},
   "outputs": [
    {
     "name": "stdout",
     "output_type": "stream",
     "text": [
      "positive\n"
     ]
    }
   ],
   "source": [
    "label = classifier.classify(features)\n",
    "print(label)"
   ]
  },
  {
   "cell_type": "code",
   "execution_count": null,
   "metadata": {},
   "outputs": [],
   "source": []
  },
  {
   "cell_type": "code",
   "execution_count": null,
   "metadata": {},
   "outputs": [],
   "source": []
  }
 ],
 "metadata": {
  "kernelspec": {
   "display_name": ".venv",
   "language": "python",
   "name": "python3"
  },
  "language_info": {
   "codemirror_mode": {
    "name": "ipython",
    "version": 3
   },
   "file_extension": ".py",
   "mimetype": "text/x-python",
   "name": "python",
   "nbconvert_exporter": "python",
   "pygments_lexer": "ipython3",
   "version": "3.11.4"
  }
 },
 "nbformat": 4,
 "nbformat_minor": 2
}
