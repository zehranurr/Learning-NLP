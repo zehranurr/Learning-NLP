{
 "cells": [
  {
   "cell_type": "markdown",
   "metadata": {},
   "source": [
    "##  Olasılıksal Dil Modelleri\n",
    "- Dilin yapısını ve düzenini anlamak ve modellemek için kullanılan istatistiksel yöntemlerdir..\n",
    "- NLP pipeline sürecinde modelleme kısmında yer alır.\n",
    "\n"
   ]
  },
  {
   "cell_type": "markdown",
   "metadata": {},
   "source": [
    "- N-Gram Modelleri - \n",
    "- Gizli Markow modelleri (hidden markow models HMM)\n",
    "- Maximum Entropy modelleri (MaxEnt)"
   ]
  },
  {
   "cell_type": "markdown",
   "metadata": {},
   "source": [
    "## N-Gram Modelleri \n",
    "- N-Gram modelleri ,bir dizideki (genellikle cümledeki) ardışık kelime veya karakter gruplarının olasıklıklarını tahmin eder.\n",
    "- Burada \"n\" gruptaki öğe sayısını belirtir.\n",
    "\n"
   ]
  },
  {
   "cell_type": "markdown",
   "metadata": {},
   "source": [
    "- Kullanım \n",
    "    - bir cümlede bir kelimenin hangi olasıklıkla diğer bir kelimeden sonra geleceğini tahmin etmek için kullanılır.\n",
    "- Avantajlar \n",
    "    - Basit hızlı\n",
    "    - Yerel bağlantıları iyi yakalar\n",
    "- Dezavantajlar\n",
    "    - Bağlam sınırlaması- uzun mesafeleri zor yakalar\n",
    "    - Veri Gereksinimi     "
   ]
  },
  {
   "cell_type": "code",
   "execution_count": 1,
   "metadata": {},
   "outputs": [],
   "source": [
    "from collections import Counter\n",
    "import nltk\n",
    "from nltk.util import ngrams\n",
    "from nltk.tokenize import word_tokenize\n",
    "\n"
   ]
  },
  {
   "cell_type": "code",
   "execution_count": 2,
   "metadata": {},
   "outputs": [],
   "source": [
    "corpus = [\n",
    "    \n",
    "    \"I love you\",\n",
    "    \"I love apple\",\n",
    "    \"I love programming\",\n",
    "    \"You love me\",\n",
    "    \"She loves apple\",\n",
    "    \"They love you\",\n",
    "    \"I love you\",\n",
    "    \"You love me\"\n",
    "]"
   ]
  },
  {
   "cell_type": "code",
   "execution_count": 5,
   "metadata": {},
   "outputs": [
    {
     "data": {
      "text/plain": [
       "[['i', 'love', 'you'],\n",
       " ['i', 'love', 'apple'],\n",
       " ['i', 'love', 'programming'],\n",
       " ['you', 'love', 'me'],\n",
       " ['she', 'loves', 'apple'],\n",
       " ['they', 'love', 'you'],\n",
       " ['i', 'love', 'you'],\n",
       " ['you', 'love', 'me']]"
      ]
     },
     "execution_count": 5,
     "metadata": {},
     "output_type": "execute_result"
    }
   ],
   "source": [
    "[ word_tokenize(sentence.lower())for sentence in corpus ]"
   ]
  },
  {
   "cell_type": "code",
   "execution_count": 6,
   "metadata": {},
   "outputs": [],
   "source": [
    "tokens= [ word_tokenize(sentence.lower())for sentence in corpus ]"
   ]
  },
  {
   "cell_type": "code",
   "execution_count": 7,
   "metadata": {},
   "outputs": [],
   "source": [
    "# n gram  -> 2\n",
    "\n",
    "bigrams = []\n",
    "for token_list in tokens:\n",
    "    bigrams.extend(list(ngrams(token_list,2)))"
   ]
  },
  {
   "cell_type": "code",
   "execution_count": 8,
   "metadata": {},
   "outputs": [
    {
     "name": "stdout",
     "output_type": "stream",
     "text": [
      "[('i', 'love'), ('love', 'you'), ('i', 'love'), ('love', 'apple'), ('i', 'love'), ('love', 'programming'), ('you', 'love'), ('love', 'me'), ('she', 'loves'), ('loves', 'apple'), ('they', 'love'), ('love', 'you'), ('i', 'love'), ('love', 'you'), ('you', 'love'), ('love', 'me')]\n"
     ]
    }
   ],
   "source": [
    "print(bigrams)"
   ]
  },
  {
   "cell_type": "code",
   "execution_count": 9,
   "metadata": {},
   "outputs": [],
   "source": [
    "bigrams_freq = Counter(bigrams)"
   ]
  },
  {
   "cell_type": "code",
   "execution_count": 11,
   "metadata": {},
   "outputs": [
    {
     "name": "stdout",
     "output_type": "stream",
     "text": [
      "Counter({('i', 'love'): 4, ('love', 'you'): 3, ('you', 'love'): 2, ('love', 'me'): 2, ('love', 'apple'): 1, ('love', 'programming'): 1, ('she', 'loves'): 1, ('loves', 'apple'): 1, ('they', 'love'): 1})\n"
     ]
    }
   ],
   "source": [
    "print(bigrams_freq)"
   ]
  },
  {
   "cell_type": "code",
   "execution_count": 12,
   "metadata": {},
   "outputs": [
    {
     "name": "stdout",
     "output_type": "stream",
     "text": [
      "Counter({('i', 'love', 'you'): 2, ('you', 'love', 'me'): 2, ('i', 'love', 'apple'): 1, ('i', 'love', 'programming'): 1, ('she', 'loves', 'apple'): 1, ('they', 'love', 'you'): 1})\n"
     ]
    }
   ],
   "source": [
    "trigrams = []\n",
    "for token_list in tokens:\n",
    "    trigrams.extend(list(ngrams(token_list,3)))\n",
    "    \n",
    "trigrams_freq = Counter(trigrams)\n",
    "\n",
    "print(trigrams_freq)"
   ]
  },
  {
   "cell_type": "code",
   "execution_count": 15,
   "metadata": {},
   "outputs": [],
   "source": [
    "# \"I love \" bigramından sonra you veya apple gelme olasılığını hesapla \"\n",
    "\n",
    "bigram = (\"i\",\"love\")\n",
    "\n",
    "prob_you = trigrams_freq[(\"i\",\"love\",\"you\")]/bigrams_freq[bigram]\n",
    "prob_apple = trigrams_freq[(\"i\",\"love\",\"apple\")]/bigrams_freq[bigram]\n"
   ]
  },
  {
   "cell_type": "code",
   "execution_count": 17,
   "metadata": {},
   "outputs": [
    {
     "name": "stdout",
     "output_type": "stream",
     "text": [
      "you kelimesinin olma olasılığı  0.5\n",
      "apple olma olasılığı :  0.25\n"
     ]
    }
   ],
   "source": [
    "print(\"you kelimesinin olma olasılığı \",prob_you)\n",
    "print(\"apple olma olasılığı : \", prob_apple)"
   ]
  }
 ],
 "metadata": {
  "kernelspec": {
   "display_name": ".venv",
   "language": "python",
   "name": "python3"
  },
  "language_info": {
   "codemirror_mode": {
    "name": "ipython",
    "version": 3
   },
   "file_extension": ".py",
   "mimetype": "text/x-python",
   "name": "python",
   "nbconvert_exporter": "python",
   "pygments_lexer": "ipython3",
   "version": "3.11.4"
  }
 },
 "nbformat": 4,
 "nbformat_minor": 2
}
