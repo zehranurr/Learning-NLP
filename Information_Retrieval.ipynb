{
 "cells": [
  {
   "cell_type": "markdown",
   "metadata": {},
   "source": [
    "## Bilgi Getirimi (Information Retrieval ) (Python -Bert)\n"
   ]
  },
  {
   "cell_type": "code",
   "execution_count": 1,
   "metadata": {},
   "outputs": [],
   "source": [
    "from transformers import BertTokenizer,BertModel\n",
    "\n",
    "import numpy as np \n",
    "from sklearn.metrics.pairwise import cosine_similarity\n",
    "\n",
    "#bert model ve tokenizer yükle\n",
    "\n",
    "model_name = \"bert-base-uncased\"\n",
    "tokenizer = BertTokenizer.from_pretrained(model_name)\n",
    "model = BertModel.from_pretrained(model_name)\n",
    "\n"
   ]
  },
  {
   "cell_type": "code",
   "execution_count": null,
   "metadata": {},
   "outputs": [],
   "source": [
    "documents = [\n",
    "    \"Machine learning is a branch of artificial intelligence that enables computers to learn from data and make predictions without explicit programming.\",\n",
    "\n",
    "\"By analyzing patterns in large datasets, machine learning algorithms can improve their accuracy over time.\",\n",
    "\n",
    "\"Supervised learning, unsupervised learning, and reinforcement learning are three major categories of machine learning.\",\n",
    "\n",
    "\"Machine learning is widely used in applications such as image recognition, natural language processing, and fraud detection.\",\n",
    "\n",
    "\"Deep learning, a subset of machine learning, uses neural networks to process complex data structures like images and speech.\",\n",
    "\n",
    "\"As machine learning models become more advanced, they play a crucial role in automating tasks and enhancing decision-making processes.\",\n",
    "\n",
    "]"
   ]
  },
  {
   "cell_type": "code",
   "execution_count": null,
   "metadata": {},
   "outputs": [],
   "source": [
    "query = \"What is machine learning ? \""
   ]
  },
  {
   "cell_type": "code",
   "execution_count": null,
   "metadata": {},
   "outputs": [],
   "source": [
    "def get_embedding(text):\n",
    "    inputs = tokenizer(text,return_tensors=\"pt\",truncation=True,padding =True)\n",
    "    outputs = model(**inputs)\n",
    "    \n",
    "    last_hidden_state = outputs.last_hidden_state\n",
    "    \n",
    "    embedding = last_hidden_state.mean(dim=1)\n",
    "    return embedding.detach().nunpy()"
   ]
  },
  {
   "cell_type": "code",
   "execution_count": null,
   "metadata": {},
   "outputs": [],
   "source": [
    "#belgeler ve sorgular için embedding vektorleri al\n",
    "\n",
    "doc_embeddings  = np.vstack([get_embedding(doc) for doc in documents])\n",
    "query_embedding = get_embedding(query)\n",
    "\n",
    "\n",
    "#cosine sim\n",
    "\n",
    "similarities = cosine_similarity(query_embedding,doc_embeddings)\n",
    "\n",
    "\n",
    "for i , score in  enumerate(similarities[0]):\n",
    "    print(f\"Document {i+1}: {score}\")"
   ]
  },
  {
   "cell_type": "code",
   "execution_count": null,
   "metadata": {},
   "outputs": [],
   "source": [
    "# en cok benzeyen\n",
    "\n",
    "most_similar_index = similarities.argmax()\n",
    "\n",
    "print(\"Most similar document\")\n",
    "\n",
    "print(documents[most_similar_index])"
   ]
  }
 ],
 "metadata": {
  "kernelspec": {
   "display_name": ".venv",
   "language": "python",
   "name": "python3"
  },
  "language_info": {
   "codemirror_mode": {
    "name": "ipython",
    "version": 3
   },
   "file_extension": ".py",
   "mimetype": "text/x-python",
   "name": "python",
   "nbconvert_exporter": "python",
   "pygments_lexer": "ipython3",
   "version": "3.11.4"
  }
 },
 "nbformat": 4,
 "nbformat_minor": 2
}
