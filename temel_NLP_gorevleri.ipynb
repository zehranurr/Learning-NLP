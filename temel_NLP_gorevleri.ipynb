{
 "cells": [
  {
   "cell_type": "markdown",
   "metadata": {},
   "source": [
    "# Temel NLP Görevleri\n",
    "- Metin sınıflandırma (Text Classification)(Machine Learning)\n",
    "- Varlık ismi Tanıma (Naemd Entity Recognation (NER))(Spacy Dil Modelleri)\n",
    "- Morfolojik analiz (Morphological Analysis)(Spacy Dil Modelleri)\n",
    "- Metin Parçası Etiketleme(PArt of speech)POS tagging(Spacy dil modeli)\n",
    "- kelime anlamı belirsizliği giderme (Word sence disambiguation)Lesk algoritması\n",
    "- Duygu analizi (Sentiment analysis ) MAchine learning"
   ]
  },
  {
   "cell_type": "markdown",
   "metadata": {},
   "source": [
    "# Metin Sınıflandırma(Text Classification)\n",
    "- Metinlerin otomatik olarak belirli kategorilere ayrılmasını sağlar\n",
    "- E posta filtreleme\n",
    "- Doküman yönetimi \n",
    "- Sosyal medya izleme\n",
    "\n",
    "\n"
   ]
  },
  {
   "cell_type": "raw",
   "metadata": {
    "vscode": {
     "languageId": "raw"
    }
   },
   "source": [
    "# Şema\n",
    "┌─────────────┐\n",
    "│   Raw text  │\n",
    "└─────┬───────┘\n",
    "      │\n",
    "      ▼\n",
    "┌─────────────┐\n",
    "│ Tokenization│\n",
    "└─────┬───────┘\n",
    "      │\n",
    "      ▼\n",
    "┌─────────────┐\n",
    "│Text cleaning│\n",
    "└─────┬───────┘\n",
    "      │\n",
    "      ▼\n",
    "┌─────────────┐\n",
    "│ POS tagging │\n",
    "└─────┬───────┘\n",
    "      │\n",
    "      ▼\n",
    "┌─────────────┐\n",
    "│ Stopwords   │\n",
    "└─────┬───────┘\n",
    "      │\n",
    "      ▼\n",
    "┌─────────────┐\n",
    "│Lemmatization│\n",
    "└─────┬───────┘\n",
    "      │\n",
    "      ▼\n",
    "┌─────────────┐    ┌─────────────┐\n",
    "│ Cleaned text│───▶│   ML Model  │\n",
    "└─────────────┘    └─────────────┘\n"
   ]
  },
  {
   "cell_type": "markdown",
   "metadata": {},
   "source": [
    "working on spam data set please check -> https://www.kaggle.com/code/zehranurmangal/text-classification"
   ]
  },
  {
   "cell_type": "markdown",
   "metadata": {},
   "source": [
    "# Named Entity Recognition:\n",
    "- Metin içeriisndeki kişi,yer organizasyon gibi özel isimleri tanımlayarak yapılandırılmamış veriden anlamlı bilgiler çıkarmayı sağlar"
   ]
  },
  {
   "cell_type": "markdown",
   "metadata": {},
   "source": [
    "- Bilgi çıkarımı \n",
    "- otomatik özetleme\n",
    "- Müşteri ilişkileri"
   ]
  },
  {
   "cell_type": "code",
   "execution_count": 3,
   "metadata": {},
   "outputs": [],
   "source": [
    "import pandas as pd \n",
    "import spacy\n",
    "\n",
    "nlp = spacy.load(\"en_core_web_sm\")\n",
    "\n",
    "\n",
    "content = \"john works at microsoft and lives in new york He visited the National History Museum\""
   ]
  },
  {
   "cell_type": "code",
   "execution_count": 4,
   "metadata": {},
   "outputs": [
    {
     "name": "stdout",
     "output_type": "stream",
     "text": [
      "john works 0 10 PERSON\n",
      "microsoft 14 23 ORG\n",
      "new york 37 45 GPE\n",
      "the National History Museum 57 84 ORG\n"
     ]
    }
   ],
   "source": [
    "doc = nlp(content)\n",
    "\n",
    "for ent in doc.ents:\n",
    "    print(ent.text,ent.start_char,ent.end_char,ent.label_)"
   ]
  },
  {
   "cell_type": "code",
   "execution_count": 5,
   "metadata": {},
   "outputs": [],
   "source": [
    "entites =[(ent.text,ent.label_,ent.lemma_) for ent in doc.ents]\n",
    "\n",
    "df = pd.DataFrame(entites,columns=[\"text\",\"type\",\"Lemma\"])"
   ]
  },
  {
   "cell_type": "code",
   "execution_count": 6,
   "metadata": {},
   "outputs": [
    {
     "data": {
      "text/html": [
       "<div>\n",
       "<style scoped>\n",
       "    .dataframe tbody tr th:only-of-type {\n",
       "        vertical-align: middle;\n",
       "    }\n",
       "\n",
       "    .dataframe tbody tr th {\n",
       "        vertical-align: top;\n",
       "    }\n",
       "\n",
       "    .dataframe thead th {\n",
       "        text-align: right;\n",
       "    }\n",
       "</style>\n",
       "<table border=\"1\" class=\"dataframe\">\n",
       "  <thead>\n",
       "    <tr style=\"text-align: right;\">\n",
       "      <th></th>\n",
       "      <th>text</th>\n",
       "      <th>type</th>\n",
       "      <th>Lemma</th>\n",
       "    </tr>\n",
       "  </thead>\n",
       "  <tbody>\n",
       "    <tr>\n",
       "      <th>0</th>\n",
       "      <td>john works</td>\n",
       "      <td>PERSON</td>\n",
       "      <td>john work</td>\n",
       "    </tr>\n",
       "    <tr>\n",
       "      <th>1</th>\n",
       "      <td>microsoft</td>\n",
       "      <td>ORG</td>\n",
       "      <td>microsoft</td>\n",
       "    </tr>\n",
       "    <tr>\n",
       "      <th>2</th>\n",
       "      <td>new york</td>\n",
       "      <td>GPE</td>\n",
       "      <td>new york</td>\n",
       "    </tr>\n",
       "    <tr>\n",
       "      <th>3</th>\n",
       "      <td>the National History Museum</td>\n",
       "      <td>ORG</td>\n",
       "      <td>the National History Museum</td>\n",
       "    </tr>\n",
       "  </tbody>\n",
       "</table>\n",
       "</div>"
      ],
      "text/plain": [
       "                          text    type                        Lemma\n",
       "0                   john works  PERSON                    john work\n",
       "1                    microsoft     ORG                    microsoft\n",
       "2                     new york     GPE                     new york\n",
       "3  the National History Museum     ORG  the National History Museum"
      ]
     },
     "execution_count": 6,
     "metadata": {},
     "output_type": "execute_result"
    }
   ],
   "source": [
    "df.head()"
   ]
  }
 ],
 "metadata": {
  "kernelspec": {
   "display_name": ".venv",
   "language": "python",
   "name": "python3"
  },
  "language_info": {
   "codemirror_mode": {
    "name": "ipython",
    "version": 3
   },
   "file_extension": ".py",
   "mimetype": "text/x-python",
   "name": "python",
   "nbconvert_exporter": "python",
   "pygments_lexer": "ipython3",
   "version": "3.11.4"
  }
 },
 "nbformat": 4,
 "nbformat_minor": 2
}
