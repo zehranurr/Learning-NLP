{
 "cells": [
  {
   "cell_type": "code",
   "execution_count": 5,
   "metadata": {},
   "outputs": [
    {
     "name": "stdout",
     "output_type": "stream",
     "text": [
      "\n",
      "📄 Benefitsof_Regular_Exercise.pdf İçeriği:\n",
      "Regular exercise has numerous benefits, both for physical and mental health. Engaging in \n",
      "physical activities such as running, swimming, or playing team sports can improve \n",
      "cardiovascular health, boost the immune system, and help maintain a healthy weight. \n",
      "Additionally, exercise releases endorphins, which can reduce stress and improve mood. \n",
      "Consistent exercise also promotes better sleep and increases energy levels. Moreover, regular \n",
      "physical activity can help prevent chronic conditions such a...\n",
      "\n",
      "📄 Essentials_of_Lease_Agreements.pdf İçeriği:\n",
      "A lease agreement is a contract between a landlord and a tenant that outlines the terms of \n",
      "renting a property. Key elements of a lease agreement include the lease duration, rental amount, \n",
      "payment schedule, security deposit, maintenance responsibilities, and termination conditions. \n",
      "Both parties should carefully review the lease agreement to understand their rights and \n",
      "obligations. A well-drafted lease agreement helps prevent misunderstandings and provides a \n",
      "clear framework for resolving pote...\n",
      "\n",
      "📄 Importance_of_Skincare.pdf İçeriği:\n",
      "Skincare is a vital aspect of maintaining overall health and beauty. A proper skincare routine \n",
      "helps protect the skin from environmental damage, reduce signs of aging, and keep the skin \n",
      "hydrated and glowing. Basic skincare steps include cleansing, toning, moisturizing, and applying \n",
      "sunscreen. Additionally, using products suitable for one's skin type and addressing specific skin \n",
      "concerns can enhance the effectiveness of the skincare regimen. Regular skincare practices \n",
      "contribute to healthy, ...\n",
      "\n",
      "📄 Understanding_Employment_Contracts.pdf İçeriği:\n",
      "Employment contracts are legally binding agreements between employers and employees. They \n",
      "outline the terms and conditions of employment, including job responsibilities, salary, working \n",
      "hours, benefits, and termination procedures. It is essential for both parties to thoroughly \n",
      "understand the contract's contents before signing to ensure mutual agreement and prevent \n",
      "future disputes. Reviewing the contract with a legal professional can provide additional clarity \n",
      "and protection. In addition to ...\n",
      "\n",
      "📄 Youth_Development.pdf İçeriği:\n",
      "Team sports play a crucial role in the development of young individuals. Participating in team \n",
      "sports teaches children valuable life skills such as teamwork, communication, and leadership. \n",
      "It helps them build social connections, enhances their physical fitness, and instills a sense of \n",
      "discipline and commitment. Furthermore, team sports can boost self-esteem and provide a \n",
      "sense of belonging, contributing to overall personal growth. In addition to these benefits, team \n",
      "sports can also foster a...\n"
     ]
    }
   ],
   "source": [
    "import os\n",
    "import fitz  # PyMuPDF\n",
    "\n",
    "# PDF dosyalarının bulunduğu klasör\n",
    "pdf_folder = \"pdf_files\"\n",
    "\n",
    "# Tüm PDF dosyalarının içeriklerini saklamak için sözlük\n",
    "pdf_texts = {}\n",
    "\n",
    "# Klasördeki tüm PDF dosyalarını işle\n",
    "for file_name in os.listdir(pdf_folder):\n",
    "    if file_name.endswith(\".pdf\"):\n",
    "        pdf_path = os.path.join(pdf_folder, file_name)\n",
    "        text = \"\"\n",
    "        \n",
    "        # PDF dosyasını aç ve metni çıkar\n",
    "        with fitz.open(pdf_path) as doc:\n",
    "            for page in doc:\n",
    "                text += page.get_text()\n",
    "        \n",
    "        # Sözlüğe kaydet\n",
    "        pdf_texts[file_name] = text\n",
    "\n",
    "# Çıkarılan metinleri ekrana yazdır (İlk 500 karakter)\n",
    "for file, content in pdf_texts.items():\n",
    "    print(f\"\\n📄 {file} İçeriği:\\n{content[:500]}...\")\n"
   ]
  },
  {
   "cell_type": "code",
   "execution_count": 6,
   "metadata": {},
   "outputs": [
    {
     "name": "stdout",
     "output_type": "stream",
     "text": [
      "\n",
      "📄 Benefitsof_Regular_Exercise.pdf İçeriği:\n",
      "Regular exercise has numerous benefits, both for physical and mental health. Engaging in\n",
      "physical activities such as running, swimming, or playing team sports can improve\n",
      "cardiovascular health, boost the immune system, and help maintain a healthy weight.\n",
      "Additionally, exercise releases endorphins, which can reduce stress and improve mood.\n",
      "Consistent exercise also promotes better sleep and increases energy levels. Moreover, regular\n",
      "physical activity can help prevent chronic conditions such as obe...\n",
      "\n",
      "📄 Essentials_of_Lease_Agreements.pdf İçeriği:\n",
      "A lease agreement is a contract between a landlord and a tenant that outlines the terms of\n",
      "renting a property. Key elements of a lease agreement include the lease duration, rental amount,\n",
      "payment schedule, security deposit, maintenance responsibilities, and termination conditions.\n",
      "Both parties should carefully review the lease agreement to understand their rights and\n",
      "obligations. A well-drafted lease agreement helps prevent misunderstandings and provides a\n",
      "clear framework for resolving potential...\n",
      "\n",
      "📄 Importance_of_Skincare.pdf İçeriği:\n",
      "Skincare is a vital aspect of maintaining overall health and beauty. A proper skincare routine\n",
      "helps protect the skin from environmental damage, reduce signs of aging, and keep the skin\n",
      "hydrated and glowing. Basic skincare steps include cleansing, toning, moisturizing, and applying\n",
      "sunscreen. Additionally, using products suitable for one's skin type and addressing specific skin\n",
      "concerns can enhance the effectiveness of the skincare regimen. Regular skincare practices\n",
      "contribute to healthy, radia...\n",
      "\n",
      "📄 Understanding_Employment_Contracts.pdf İçeriği:\n",
      "Employment contracts are legally binding agreements between employers and employees. They\n",
      "outline the terms and conditions of employment, including job responsibilities, salary, working\n",
      "hours, benefits, and termination procedures. It is essential for both parties to thoroughly\n",
      "understand the contract's contents before signing to ensure mutual agreement and prevent\n",
      "future disputes. Reviewing the contract with a legal professional can provide additional clarity\n",
      "and protection. In addition to these...\n",
      "\n",
      "📄 Youth_Development.pdf İçeriği:\n",
      "Team sports play a crucial role in the development of young individuals. Participating in team\n",
      "sports teaches children valuable life skills such as teamwork, communication, and leadership.\n",
      "It helps them build social connections, enhances their physical fitness, and instills a sense of\n",
      "discipline and commitment. Furthermore, team sports can boost self-esteem and provide a\n",
      "sense of belonging, contributing to overall personal growth. In addition to these benefits, team\n",
      "sports can also foster a sens...\n"
     ]
    }
   ],
   "source": [
    "import os\n",
    "import pdfplumber\n",
    "\n",
    "# PDF dosyalarının bulunduğu klasör\n",
    "pdf_folder = \"pdf_files\"\n",
    "\n",
    "# Tüm PDF dosyalarının içeriklerini saklamak için sözlük\n",
    "pdf_texts = {}\n",
    "\n",
    "# Klasördeki tüm PDF dosyalarını işle\n",
    "for file_name in os.listdir(pdf_folder):\n",
    "    if file_name.endswith(\".pdf\"):\n",
    "        pdf_path = os.path.join(pdf_folder, file_name)\n",
    "        text = \"\"\n",
    "\n",
    "        try:\n",
    "            # pdfplumber ile PDF aç ve metni çıkar\n",
    "            with pdfplumber.open(pdf_path) as pdf:\n",
    "                for page in pdf.pages:\n",
    "                    text += page.extract_text() + \"\\n\"\n",
    "            \n",
    "            # Çıkarılan metni sakla\n",
    "            pdf_texts[file_name] = text if text else \"Metin çıkarılamadı!\"\n",
    "        \n",
    "        except Exception as e:\n",
    "            print(f\"❌ {file_name} okunamadı: {e}\")\n",
    "\n",
    "# Çıkarılan metinleri ekrana yazdır (İlk 500 karakter)\n",
    "for file, content in pdf_texts.items():\n",
    "    print(f\"\\n📄 {file} İçeriği:\\n{content[:500]}...\")\n"
   ]
  },
  {
   "cell_type": "code",
   "execution_count": 8,
   "metadata": {},
   "outputs": [
    {
     "name": "stdout",
     "output_type": "stream",
     "text": [
      "\n",
      "📢 Soru: What is the company's penalty policy?\n"
     ]
    }
   ],
   "source": [
    "# Kullanıcıdan soru al\n",
    "query = input(\"🔍 Lütfen bir soru girin: \")\n",
    "\n",
    "# Kullanıcıdan alınan sorguyu ekrana yazdır\n",
    "print(f\"\\n📢 Soru: {query}\")\n"
   ]
  },
  {
   "cell_type": "code",
   "execution_count": 9,
   "metadata": {},
   "outputs": [
    {
     "name": "stdout",
     "output_type": "stream",
     "text": [
      "\n",
      "📄 En alakalı PDF: Understanding_Employment_Contracts.pdf\n",
      "📊 Benzerlik Skoru: 0.6049\n",
      "\n",
      "🔍 PDF İçeriği (İlk 500 karakter):\n",
      "Employment contracts are legally binding agreements between employers and employees. They\n",
      "outline the terms and conditions of employment, including job responsibilities, salary, working\n",
      "hours, benefits, and termination procedures. It is essential for both parties to thoroughly\n",
      "understand the contract's contents before signing to ensure mutual agreement and prevent\n",
      "future disputes. Reviewing the contract with a legal professional can provide additional clarity\n",
      "and protection. In addition to these...\n"
     ]
    }
   ],
   "source": [
    "from transformers import BertTokenizer, BertModel\n",
    "import torch\n",
    "import numpy as np\n",
    "from sklearn.metrics.pairwise import cosine_similarity\n",
    "\n",
    "# BERT modelini ve tokenizer'ı yükle\n",
    "model_name = \"bert-base-uncased\"\n",
    "tokenizer = BertTokenizer.from_pretrained(model_name)\n",
    "model = BertModel.from_pretrained(model_name)\n",
    "\n",
    "# BERT ile metni vektör haline getiren fonksiyon\n",
    "def get_embedding(text):\n",
    "    inputs = tokenizer(text, return_tensors=\"pt\", truncation=True, padding=True, max_length=512)\n",
    "    with torch.no_grad():\n",
    "        outputs = model(**inputs)\n",
    "    return outputs.last_hidden_state.mean(dim=1).numpy()\n",
    "\n",
    "# Tüm PDF içeriklerini embedding'e çevir\n",
    "pdf_embeddings = {file: get_embedding(content) for file, content in pdf_texts.items()}\n",
    "\n",
    "# Kullanıcının sorusunu embedding'e çevir\n",
    "query_embedding = get_embedding(query)\n",
    "\n",
    "# Cosine Similarity hesapla\n",
    "similarities = {file: cosine_similarity(query_embedding, emb)[0][0] for file, emb in pdf_embeddings.items()}\n",
    "\n",
    "# En benzer PDF'yi seç\n",
    "most_similar_pdf = max(similarities, key=similarities.get)\n",
    "\n",
    "# Sonucu ekrana yazdır\n",
    "print(f\"\\n📄 En alakalı PDF: {most_similar_pdf}\")\n",
    "print(f\"📊 Benzerlik Skoru: {similarities[most_similar_pdf]:.4f}\")\n",
    "print(f\"\\n🔍 PDF İçeriği (İlk 500 karakter):\\n{pdf_texts[most_similar_pdf][:500]}...\")\n"
   ]
  },
  {
   "cell_type": "code",
   "execution_count": 12,
   "metadata": {},
   "outputs": [
    {
     "data": {
      "application/vnd.jupyter.widget-view+json": {
       "model_id": "d6cab36c96a74442a4ca7ae5d6e4af08",
       "version_major": 2,
       "version_minor": 0
      },
      "text/plain": [
       "VBox(children=(HTML(value='<center> <img\\nsrc=https://huggingface.co/front/assets/huggingface_logo-noborder.sv…"
      ]
     },
     "metadata": {},
     "output_type": "display_data"
    }
   ],
   "source": [
    "from huggingface_hub import login\n",
    "\n",
    "login()\n"
   ]
  },
  {
   "cell_type": "code",
   "execution_count": null,
   "metadata": {},
   "outputs": [],
   "source": []
  }
 ],
 "metadata": {
  "kernelspec": {
   "display_name": ".venv",
   "language": "python",
   "name": "python3"
  },
  "language_info": {
   "codemirror_mode": {
    "name": "ipython",
    "version": 3
   },
   "file_extension": ".py",
   "mimetype": "text/x-python",
   "name": "python",
   "nbconvert_exporter": "python",
   "pygments_lexer": "ipython3",
   "version": "3.11.4"
  }
 },
 "nbformat": 4,
 "nbformat_minor": 2
}
