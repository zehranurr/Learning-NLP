{
 "cells": [
  {
   "cell_type": "markdown",
   "metadata": {},
   "source": [
    "# Bert & GPT"
   ]
  },
  {
   "cell_type": "code",
   "execution_count": 1,
   "metadata": {},
   "outputs": [],
   "source": [
    "from transformers import BertTokenizer , BertForQuestionAnswering\n",
    "import torch \n",
    "\n",
    "import warnings\n",
    "warnings.filterwarnings(\"ignore\")\n",
    " "
   ]
  },
  {
   "cell_type": "code",
   "execution_count": 2,
   "metadata": {},
   "outputs": [
    {
     "data": {
      "application/vnd.jupyter.widget-view+json": {
       "model_id": "d7abd41a411746798314e194db8a4e15",
       "version_major": 2,
       "version_minor": 0
      },
      "text/plain": [
       "tokenizer_config.json:   0%|          | 0.00/48.0 [00:00<?, ?B/s]"
      ]
     },
     "metadata": {},
     "output_type": "display_data"
    },
    {
     "data": {
      "application/vnd.jupyter.widget-view+json": {
       "model_id": "f0f8fc204eda4d9db683e356152787e1",
       "version_major": 2,
       "version_minor": 0
      },
      "text/plain": [
       "vocab.txt:   0%|          | 0.00/232k [00:00<?, ?B/s]"
      ]
     },
     "metadata": {},
     "output_type": "display_data"
    },
    {
     "data": {
      "application/vnd.jupyter.widget-view+json": {
       "model_id": "5edb58eb030b43cf88724bf06cfd666b",
       "version_major": 2,
       "version_minor": 0
      },
      "text/plain": [
       "tokenizer.json:   0%|          | 0.00/466k [00:00<?, ?B/s]"
      ]
     },
     "metadata": {},
     "output_type": "display_data"
    },
    {
     "data": {
      "application/vnd.jupyter.widget-view+json": {
       "model_id": "d31a3143b0574629ac709d5c83832a3e",
       "version_major": 2,
       "version_minor": 0
      },
      "text/plain": [
       "config.json:   0%|          | 0.00/443 [00:00<?, ?B/s]"
      ]
     },
     "metadata": {},
     "output_type": "display_data"
    },
    {
     "data": {
      "application/vnd.jupyter.widget-view+json": {
       "model_id": "57b4347ea3b948099e26b3602cb1da60",
       "version_major": 2,
       "version_minor": 0
      },
      "text/plain": [
       "model.safetensors:   0%|          | 0.00/1.34G [00:00<?, ?B/s]"
      ]
     },
     "metadata": {},
     "output_type": "display_data"
    },
    {
     "name": "stderr",
     "output_type": "stream",
     "text": [
      "Some weights of the model checkpoint at bert-Large-uncased-whole-word-masking-finetuned-squad were not used when initializing BertForQuestionAnswering: ['bert.pooler.dense.bias', 'bert.pooler.dense.weight']\n",
      "- This IS expected if you are initializing BertForQuestionAnswering from the checkpoint of a model trained on another task or with another architecture (e.g. initializing a BertForSequenceClassification model from a BertForPreTraining model).\n",
      "- This IS NOT expected if you are initializing BertForQuestionAnswering from the checkpoint of a model that you expect to be exactly identical (initializing a BertForSequenceClassification model from a BertForSequenceClassification model).\n"
     ]
    }
   ],
   "source": [
    "#squad veri seti üzerinde ince ayar yapılmış (fine-tuning) yapılmış  bert dil modelini kullanacağız\n",
    "\n",
    "model_name = \"bert-Large-uncased-whole-word-masking-finetuned-squad\"\n",
    "tokenizer = BertTokenizer.from_pretrained(model_name)\n",
    "model = BertForQuestionAnswering.from_pretrained(model_name)\n",
    "\n",
    "\n",
    "def predict_answer(context, question):\n",
    "    \n",
    "    #token\n",
    "    encoding = tokenizer.encode_plus(question,context,return_tensors =\"pt\",max_length=512,truncation =True)\n",
    "    \n",
    "    #giris tensorlar\n",
    "    \n",
    "    input_ids = encoding[\"input_ids\"] #tokenların sayısal halleri\n",
    "    attention_mask = encoding[\"attention_mask\"] # hangi tokenların dikkate alınacağını belirliyor\n",
    "    \n",
    "    \n",
    "    # modeli calıstır ve skorları al\n",
    "    with torch.no_grad():\n",
    "        start_scores,end_scores = model(input_ids,attention_mask=attention_mask ,return_dict = False)\n",
    "    \n",
    "    \n",
    "    # en yuksek olasıklıklı baslangıc ve bitis indeksleri bul \n",
    "    \n",
    "    start_index = torch.argmax(start_scores,dim=1).item()\n",
    "    end_index = torch.argmax(end_scores,dim=1).item()\n",
    "    \n",
    "    \n",
    "    # tokenları al ve cevabı coz\n",
    "    \n",
    "    \n",
    "    answer_tokens = tokenizer.convert_ids_to_tokens(input_ids[0][start_index:end_index +1])\n",
    "    answer = tokenizer.convert_tokens_to_string(answer_tokens)\n",
    "    \n",
    "    return answer "
   ]
  },
  {
   "cell_type": "code",
   "execution_count": 3,
   "metadata": {},
   "outputs": [],
   "source": [
    "question = \"what is the capital of france\"\n",
    "\n",
    "\n",
    "context = \"France,offically the french republic, is a  country whose capital is paris\"\n",
    "\n",
    "\n",
    "answer = predict_answer(context,question)\n"
   ]
  },
  {
   "cell_type": "code",
   "execution_count": 4,
   "metadata": {},
   "outputs": [
    {
     "name": "stdout",
     "output_type": "stream",
     "text": [
      "what is the capital of france\n",
      "paris\n"
     ]
    }
   ],
   "source": [
    "print(question)\n",
    "\n",
    "print(answer)"
   ]
  },
  {
   "cell_type": "markdown",
   "metadata": {},
   "source": [
    "## GPT  "
   ]
  },
  {
   "cell_type": "code",
   "execution_count": null,
   "metadata": {},
   "outputs": [],
   "source": [
    "from transformers import GPT2Tokenizer ,GPT2LMHeadModel\n",
    "import torch \n",
    "\n",
    "import warnings\n",
    "\n",
    "warnings.filterwarnings(\"ignore\")\n",
    "\n",
    "model_name = \"gpt2\"\n",
    "\n",
    "tokenizer = GPT2Tokenizer.from_pretrained(model_name)\n",
    "model = GPT2LMHeadModel.from_pretrained(model_name)\n"
   ]
  },
  {
   "cell_type": "code",
   "execution_count": null,
   "metadata": {},
   "outputs": [],
   "source": [
    "def generate_answer(context,question):\n",
    "    \n",
    "    input_text = f\"Question: {question}, Context: {context}. Please answer the Question according to Context\"\n",
    "    \n",
    "    #tokenize et ve tensorlara donustur\n",
    "    inputs = tokenizer.encode(input_text,return_tensors=\"pt\")\n",
    "    \n",
    "    #modeli calıstır ve sonuc uret\n",
    "    \n",
    "    with torch.no_grad():\n",
    "        outputs =model.generate(inputs,max_length = 350)\n",
    "        \n",
    "    # uretilen yantici decode\n",
    "    answer=tokenizer.decode(outputs[0],skip_special_tokens=True)\n",
    "    \n",
    "    answer = answer.split(\"Answer :\")[-1].strip()\n",
    "    return answer\n",
    "    \n",
    "    "
   ]
  },
  {
   "cell_type": "code",
   "execution_count": null,
   "metadata": {},
   "outputs": [],
   "source": [
    "question = \"what is the capital of france\"\n",
    "\n",
    "\n",
    "context = \"France,offically the french republic, is a  country whose capital is paris\"\n",
    "\n",
    "\n",
    "answer =generate_answer(context,question)"
   ]
  },
  {
   "cell_type": "code",
   "execution_count": null,
   "metadata": {},
   "outputs": [],
   "source": [
    "print(question)\n",
    "\n",
    "print(answer)"
   ]
  }
 ],
 "metadata": {
  "kernelspec": {
   "display_name": ".venv",
   "language": "python",
   "name": "python3"
  },
  "language_info": {
   "codemirror_mode": {
    "name": "ipython",
    "version": 3
   },
   "file_extension": ".py",
   "mimetype": "text/x-python",
   "name": "python",
   "nbconvert_exporter": "python",
   "pygments_lexer": "ipython3",
   "version": "3.11.4"
  }
 },
 "nbformat": 4,
 "nbformat_minor": 2
}
